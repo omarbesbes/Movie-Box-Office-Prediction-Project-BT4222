{
  "cells": [
    {
      "cell_type": "markdown",
      "metadata": {},
      "source": [
        "# Box Office Data Scraping and Analysis \n",
        "In this notebook, we'll scrape and analyze box office data from The-Numbers.com for the years 2020-2025. We'll collect daily gross information, extract movie details, and create a comprehensive dataset for analysis.\n",
        "\n",
        "Let's begin by installing the necessary packages.\n"
      ]
    },
    {
      "cell_type": "code",
      "execution_count": null,
      "metadata": {
        "colab": {
          "base_uri": "https://localhost:8080/"
        },
        "id": "5Kti2XsMbVL1",
        "outputId": "46a7e8ec-f1fd-412b-d287-ad3448a85c29"
      },
      "outputs": [
        {
          "name": "stdout",
          "output_type": "stream",
          "text": [
            "Collecting cloudscraper\n",
            "  Downloading cloudscraper-1.2.71-py2.py3-none-any.whl.metadata (19 kB)\n",
            "Requirement already satisfied: pyparsing>=2.4.7 in /usr/local/lib/python3.11/dist-packages (from cloudscraper) (3.2.3)\n",
            "Requirement already satisfied: requests>=2.9.2 in /usr/local/lib/python3.11/dist-packages (from cloudscraper) (2.32.3)\n",
            "Requirement already satisfied: requests-toolbelt>=0.9.1 in /usr/local/lib/python3.11/dist-packages (from cloudscraper) (1.0.0)\n",
            "Requirement already satisfied: charset-normalizer<4,>=2 in /usr/local/lib/python3.11/dist-packages (from requests>=2.9.2->cloudscraper) (3.4.1)\n",
            "Requirement already satisfied: idna<4,>=2.5 in /usr/local/lib/python3.11/dist-packages (from requests>=2.9.2->cloudscraper) (3.10)\n",
            "Requirement already satisfied: urllib3<3,>=1.21.1 in /usr/local/lib/python3.11/dist-packages (from requests>=2.9.2->cloudscraper) (2.3.0)\n",
            "Requirement already satisfied: certifi>=2017.4.17 in /usr/local/lib/python3.11/dist-packages (from requests>=2.9.2->cloudscraper) (2025.1.31)\n",
            "Downloading cloudscraper-1.2.71-py2.py3-none-any.whl (99 kB)\n",
            "\u001b[2K   \u001b[90m━━━━━━━━━━━━━━━━━━━━━━━━━━━━━━━━━━━━━━━━\u001b[0m \u001b[32m99.7/99.7 kB\u001b[0m \u001b[31m5.4 MB/s\u001b[0m eta \u001b[36m0:00:00\u001b[0m\n",
            "\u001b[?25hInstalling collected packages: cloudscraper\n",
            "Successfully installed cloudscraper-1.2.71\n"
          ]
        }
      ],
      "source": [
        "!pip install cloudscraper"
      ]
    },
    {
      "cell_type": "markdown",
      "metadata": {},
      "source": [
        "## Importing Libraries\n",
        "\n",
        "In this section, we'll import all the necessary libraries for our web scraping project. We use BeautifulSoup for parsing HTML content, pandas for data manipulation, and various other tools for handling dates, progress tracking, and concurrent processing.\n",
        "\n",
        "CloudScraper is particularly important because The-Numbers.com employs anti-bot measures that regular requests libraries might not handle well. By using CloudScraper, we can bypass these protections and access the data we need reliably."
      ]
    },
    {
      "cell_type": "markdown",
      "metadata": {},
      "source": [
        "## Setting Up Web Scraping Tools\n",
        "\n",
        "Web scraping requires careful handling of HTTP requests to avoid being blocked or rate-limited. In this section, we set up robust tools to extract movie data from The-Numbers.com.\n",
        "\n",
        "First, we'll create a function that fetches web content and converts it to a BeautifulSoup object for easy parsing. This function will handle the initial retrieval of HTML data from any URL we provide."
      ]
    },
    {
      "cell_type": "code",
      "execution_count": null,
      "metadata": {
        "id": "1Ox3EcDsbPeT"
      },
      "outputs": [],
      "source": [
        "from bs4 import BeautifulSoup\n",
        "import pandas as pd\n",
        "from datetime import datetime, timedelta\n",
        "from tqdm import tqdm\n",
        "from concurrent.futures import ThreadPoolExecutor\n",
        "import cloudscraper\n",
        "\n",
        "from bs4 import BeautifulSoup\n",
        "\n",
        "\n",
        "def extract_movies(url, session=None):\n",
        "    \"\"\"\n",
        "    Fetches and returns a BeautifulSoup object for the given URL,\n",
        "    using a CloudScraper session configured with retries.\n",
        "    \"\"\"\n",
        "    if session is None:\n",
        "        # Fallback to a default session if none provided\n",
        "        session = get_cloudscraper_session()\n",
        "\n",
        "    response = session.get(url)\n",
        "    # Raises an HTTPError if the status is 4xx or 5xx.\n",
        "    response.raise_for_status()\n",
        "\n",
        "    return BeautifulSoup(response.text, \"html.parser\")\n"
      ]
    },
    {
      "cell_type": "markdown",
      "metadata": {},
      "source": [
        "## Creating a Robust Scraping Session\n",
        "\n",
        "Websites often implement various protections against automated scraping. To overcome these challenges, we need to create a specialized session that can:\n",
        "\n",
        "1. Bypass Cloudflare protection\n",
        "2. Automatically retry failed requests\n",
        "3. Use appropriate delays between requests\n",
        "4. Present itself with a legitimate user agent\n",
        "\n",
        "The following function creates such a session with retry capabilities for different HTTP error codes."
      ]
    },
    {
      "cell_type": "code",
      "execution_count": null,
      "metadata": {
        "id": "wJxdHNsuJ2AL"
      },
      "outputs": [],
      "source": [
        "import cloudscraper\n",
        "from requests.adapters import HTTPAdapter\n",
        "from urllib3.util.retry import Retry\n",
        "\n",
        "\n",
        "def get_cloudscraper_session(\n",
        "    total_retries=5,\n",
        "    backoff_factor=1,\n",
        "    status_forcelist=(403, 429, 500, 502, 503, 504),\n",
        "    user_agent=\"Mozilla/5.0 (Windows NT 10.0; Win64; x64) AppleWebKit/537.36 \"\n",
        "    \"(KHTML, like Gecko) Chrome/98.0.4758.102 Safari/537.36\",\n",
        "):\n",
        "    \"\"\"\n",
        "    Returns a CloudScraper session configured to retry on specific HTTP errors.\n",
        "    \"\"\"\n",
        "\n",
        "    # Create a CloudScraper session (handles Cloudflare anti-bot challenges).\n",
        "    scraper = cloudscraper.create_scraper()\n",
        "\n",
        "    # Optionally update the User-Agent header.\n",
        "    scraper.headers.update({\"User-Agent\": user_agent})\n",
        "\n",
        "    # Configure the Retry strategy.\n",
        "    retries = Retry(\n",
        "        total=total_retries,\n",
        "        backoff_factor=backoff_factor,\n",
        "        status_forcelist=status_forcelist,\n",
        "    )\n",
        "    adapter = HTTPAdapter(max_retries=retries)\n",
        "\n",
        "    # Mount the adapter to handle both HTTP and HTTPS.\n",
        "    scraper.mount(\"http://\", adapter)\n",
        "    scraper.mount(\"https://\", adapter)\n",
        "\n",
        "    return scraper\n"
      ]
    },
    {
      "cell_type": "markdown",
      "metadata": {},
      "source": [
        "## Alternative Session Configuration\n",
        "\n",
        "We're implementing an alternative session creation function with similar parameters. Having multiple approaches gives us flexibility if we encounter different types of website protections or if one method becomes ineffective.\n",
        "\n",
        "Both session functions use exponential backoff strategies, which means they wait progressively longer between retries, reducing the likelihood of being blocked for making too many requests too quickly."
      ]
    },
    {
      "cell_type": "code",
      "execution_count": null,
      "metadata": {
        "id": "bVj6KOcCPjXG"
      },
      "outputs": [],
      "source": [
        "import cloudscraper\n",
        "from requests.adapters import HTTPAdapter\n",
        "from urllib3.util.retry import Retry\n",
        "\n",
        "\n",
        "def get_session(\n",
        "    total_retries=5,\n",
        "    backoff_factor=1,\n",
        "    status_forcelist=(403, 429, 500, 502, 503, 504),\n",
        "    user_agent=(\n",
        "        \"Mozilla/5.0 (Windows NT 10.0; Win64; x64) AppleWebKit/537.36 \"\n",
        "        \"(KHTML, like Gecko) Chrome/98.0.4758.102 Safari/537.36\"\n",
        "    ),\n",
        "):\n",
        "    \"\"\"\n",
        "    Returns a CloudScraper session object with built-in retry logic.\n",
        "    \"\"\"\n",
        "    scraper = cloudscraper.create_scraper()\n",
        "    scraper.headers.update({\"User-Agent\": user_agent})\n",
        "\n",
        "    retries = Retry(\n",
        "        total=total_retries,\n",
        "        backoff_factor=backoff_factor,\n",
        "        status_forcelist=status_forcelist,\n",
        "    )\n",
        "    adapter = HTTPAdapter(max_retries=retries)\n",
        "\n",
        "    # Mount the adapter for HTTP/HTTPS\n",
        "    scraper.mount(\"http://\", adapter)\n",
        "    scraper.mount(\"https://\", adapter)\n",
        "\n",
        "    return scraper\n"
      ]
    },
    {
      "cell_type": "markdown",
      "metadata": {},
      "source": [
        "## Parsing Box Office Data\n",
        "\n",
        "Now we'll implement a function to extract structured data from the daily box office charts on The-Numbers.com. This function handles the complex task of:\n",
        "\n",
        "- Finding the right table in the HTML\n",
        "- Extracting each movie's information\n",
        "- Handling truncated titles and distributor names\n",
        "- Organizing all data into a clean DataFrame\n",
        "\n",
        "The function includes special logic to reconstruct full movie titles when they appear truncated (with \"…\") on the website by using information from the URL."
      ]
    },
    {
      "cell_type": "code",
      "execution_count": null,
      "metadata": {
        "id": "t4VlVbsrbPeU"
      },
      "outputs": [],
      "source": [
        "import re\n",
        "from bs4 import BeautifulSoup\n",
        "import pandas as pd\n",
        "\n",
        "\n",
        "def parse_html_to_dataframe(soup, date):\n",
        "    data = []\n",
        "\n",
        "    # Find the table in the HTML\n",
        "    table = soup.find(\"table\", {\"id\": \"box_office_daily_table\"})\n",
        "    if not table:\n",
        "        return pd.DataFrame()  # No table found, return empty\n",
        "\n",
        "    rows = table.find_all(\"tr\")\n",
        "\n",
        "    for row in rows[1:-2]:  # Skip header and footer rows\n",
        "        cols = row.find_all(\"td\")\n",
        "        if len(cols) >= 11:\n",
        "            movie_link_tag = cols[2].find(\"a\")\n",
        "            movie_title = movie_link_tag.text.strip() if movie_link_tag else \"\"\n",
        "\n",
        "            href_movie = movie_link_tag.get(\"href\", \"\")\n",
        "            # If movie title is truncated (\"…\"), reconstruct from href\n",
        "            if \"…\" in movie_title and movie_link_tag:\n",
        "                if \"/movie/\" in href_movie:\n",
        "                    # Remove leading \"/movie/\"\n",
        "                    title_from_href = re.sub(r\"^/movie/\", \"\", href_movie)\n",
        "                    # Remove trailing \"#...\" (e.g., \"#tab=box-office\")\n",
        "                    title_from_href = re.sub(r\"#.*$\", \"\", title_from_href)\n",
        "                    # Remove any parentheses and their contents\n",
        "                    title_from_href = re.sub(r\"\\(.*?\\)\", \"\", title_from_href)\n",
        "                    # Replace hyphens with spaces\n",
        "                    title_from_href = title_from_href.replace(\"-\", \" \")\n",
        "                    # Clean up extra spaces\n",
        "                    title_from_href = re.sub(r\"\\s+\", \" \", title_from_href).strip()\n",
        "                    movie_title = title_from_href\n",
        "\n",
        "            distributor_link_tag = cols[3].find(\"a\")\n",
        "            distributor = (\n",
        "                distributor_link_tag.text.strip()\n",
        "                if distributor_link_tag\n",
        "                else cols[3].text.strip()\n",
        "            )\n",
        "\n",
        "            # If distributor is truncated (\"…\"), reconstruct from href\n",
        "            if \"…\" in distributor and distributor_link_tag:\n",
        "                href = distributor_link_tag.get(\"href\", \"\")\n",
        "                if \"/distributor/\" in href or \"/company/\" in href or \"/studio/\" in href:\n",
        "                    # 1) Remove any leading path up to 'distributor/' (or 'company/', etc.)\n",
        "                    dist_from_href = re.sub(\n",
        "                        r\".*/(distributor|company|studio)/\", \"\", href\n",
        "                    )\n",
        "                    # 2) Remove trailing \"#...\" (if present)\n",
        "                    dist_from_href = re.sub(r\"#.*$\", \"\", dist_from_href)\n",
        "                    # 3) Remove parentheses if any\n",
        "                    dist_from_href = re.sub(r\"\\(.*?\\)\", \"\", dist_from_href)\n",
        "                    # 4) Replace hyphens with spaces\n",
        "                    dist_from_href = dist_from_href.replace(\"-\", \" \")\n",
        "                    # 5) Clean up extra spaces\n",
        "                    dist_from_href = re.sub(r\"\\s+\", \" \", dist_from_href).strip()\n",
        "\n",
        "                    distributor = dist_from_href\n",
        "\n",
        "            gross = cols[4].text.strip()\n",
        "            o_oyd = cols[5].text.strip()\n",
        "            o_olw = cols[6].text.strip()\n",
        "            theaters = cols[7].text.strip()\n",
        "            per_theater = cols[8].text.strip()\n",
        "            total_gross = cols[9].text.strip()\n",
        "            days_in_release = cols[10].text.strip()\n",
        "\n",
        "            data.append(\n",
        "                [\n",
        "                    movie_title,\n",
        "                    distributor,\n",
        "                    gross,\n",
        "                    o_oyd,\n",
        "                    o_olw,\n",
        "                    theaters,\n",
        "                    per_theater,\n",
        "                    total_gross,\n",
        "                    days_in_release,\n",
        "                    date,\n",
        "                    href_movie,\n",
        "                ]\n",
        "            )\n",
        "\n",
        "    df = pd.DataFrame(\n",
        "        data,\n",
        "        columns=[\n",
        "            \"Movie Title\",\n",
        "            \"Distributor\",\n",
        "            \"Gross\",\n",
        "            \"%YD\",\n",
        "            \"%LW\",\n",
        "            \"Theaters\",\n",
        "            \"Per Theater\",\n",
        "            \"Total Gross\",\n",
        "            \"Days In Release\",\n",
        "            \"Date\",\n",
        "            \"link\",\n",
        "        ],\n",
        "    )\n",
        "\n",
        "    return df\n"
      ]
    },
    {
      "cell_type": "markdown",
      "metadata": {},
      "source": [
        "## Sequential Data Collection\n",
        "\n",
        "Our first data collection approach processes one day at a time in sequence. While this method is slower than parallel processing, it's easier to debug and places less strain on the website's servers.\n",
        "\n",
        "This function will:\n",
        "1. Loop through each date in our target range\n",
        "2. Fetch the box office data for that day\n",
        "3. Parse it into a structured format\n",
        "4. Combine all daily data into one comprehensive DataFrame\n",
        "\n",
        "We use tqdm to display a progress bar so we can track how the collection is proceeding."
      ]
    },
    {
      "cell_type": "code",
      "execution_count": null,
      "metadata": {
        "id": "-LbEc0AjbPeV"
      },
      "outputs": [],
      "source": [
        "def collect_data_over_dates(start_date, end_date):\n",
        "    current_date = datetime.strptime(start_date, \"%Y/%m/%d\")\n",
        "    end_date = datetime.strptime(end_date, \"%Y/%m/%d\")\n",
        "\n",
        "    all_data = pd.DataFrame()\n",
        "    total_days = (end_date - current_date).days + 1\n",
        "    with tqdm(total=total_days) as pbar:\n",
        "        while current_date <= end_date:\n",
        "            soup = extract_movies(\n",
        "                f\"https://www.the-numbers.com/box-office-chart/daily/{current_date.strftime('%Y')}/{current_date.strftime('%m')}/{current_date.strftime('%d')}#box_office_daily_table=od4\"\n",
        "            )\n",
        "            daily_df = parse_html_to_dataframe(soup, current_date.strftime(\"%Y/%m/%d\"))\n",
        "            all_data = pd.concat([all_data, daily_df], ignore_index=True)\n",
        "            current_date += timedelta(days=1)\n",
        "            pbar.update(1)\n",
        "\n",
        "    return all_data"
      ]
    },
    {
      "cell_type": "markdown",
      "metadata": {},
      "source": [
        "## Error Tracking\n",
        "\n",
        "Web scraping at scale often encounters occasional failures due to network issues, website changes, or temporary blocks. To ensure we capture these issues, we'll create a list to track any URLs that fail during our data collection process. This helps us identify problematic dates that might need special handling."
      ]
    },
    {
      "cell_type": "code",
      "execution_count": null,
      "metadata": {
        "id": "eC8nMeRScoZ3"
      },
      "outputs": [],
      "source": [
        "errors = []\n"
      ]
    },
    {
      "cell_type": "markdown",
      "metadata": {},
      "source": [
        "## Parallel Data Collection\n",
        "\n",
        "To dramatically speed up our data collection, we'll implement a parallel processing approach using Python's ThreadPoolExecutor. This allows us to fetch data for multiple dates simultaneously, potentially reducing collection time by a factor of 10-100x.\n",
        "\n",
        "Each thread handles a single date, fetching and parsing the data independently. We then combine all results into a single DataFrame. The error handling ensures that if any individual request fails, it won't crash the entire process."
      ]
    },
    {
      "cell_type": "code",
      "execution_count": null,
      "metadata": {
        "id": "VTkNdd6FcEup"
      },
      "outputs": [],
      "source": [
        "def collect_data_over_dates_parallel(start_date, end_date, extract_movies):\n",
        "    def fetch_and_parse(current_date):\n",
        "        try:\n",
        "            url = f\"https://www.the-numbers.com/box-office-chart/daily/{current_date.strftime('%Y/%m/%d')}#box_office_daily_table=od4\"\n",
        "            html_content = extract_movies(url)\n",
        "            return parse_html_to_dataframe(\n",
        "                html_content, current_date.strftime(\"%Y/%m/%d\")\n",
        "            )\n",
        "        except Exception as e:\n",
        "            errors.append(url)\n",
        "            return pd.DataFrame()\n",
        "\n",
        "    start = datetime.strptime(start_date, \"%Y/%m/%d\")\n",
        "    end = datetime.strptime(end_date, \"%Y/%m/%d\")\n",
        "    dates = [start + timedelta(days=x) for x in range((end - start).days + 1)]\n",
        "\n",
        "    all_data = pd.DataFrame()\n",
        "\n",
        "    with ThreadPoolExecutor(max_workers=100) as executor:\n",
        "        results = list(tqdm(executor.map(fetch_and_parse, dates), total=len(dates)))\n",
        "\n",
        "    all_data = pd.concat(results, ignore_index=True)\n",
        "\n",
        "    return all_data"
      ]
    },
    {
      "cell_type": "markdown",
      "metadata": {},
      "source": [
        "## Executing the Data Collection\n",
        "\n",
        "Now we'll run our parallel data collection function to gather box office data from January 1, 2020 through March 1, 2025. \n",
        "\n",
        "This collection process may take some time as we're gathering data for over 1,800 days, but our parallel approach makes it much faster than sequential processing."
      ]
    },
    {
      "cell_type": "code",
      "execution_count": null,
      "metadata": {
        "colab": {
          "base_uri": "https://localhost:8080/"
        },
        "id": "LXDApVfqbmTK",
        "outputId": "8aa47d12-efc6-404e-a711-bd8c947dffc2"
      },
      "outputs": [
        {
          "name": "stderr",
          "output_type": "stream",
          "text": [
            "100%|██████████| 1887/1887 [02:38<00:00, 11.92it/s]\n"
          ]
        }
      ],
      "source": [
        "df = collect_data_over_dates_parallel(\"2020/01/01\", \"2025/03/01\", extract_movies)"
      ]
    },
    {
      "cell_type": "markdown",
      "metadata": {},
      "source": [
        "## Creating a DataFrame of Unique Movies\n",
        "\n",
        "In our daily box office data, the same movies appear multiple times across different dates. To efficiently collect additional information, we'll create a new DataFrame containing only unique movies and their links.\n",
        "\n",
        "First, we extract just the movie titles and their corresponding links:"
      ]
    },
    {
      "cell_type": "code",
      "execution_count": null,
      "metadata": {
        "id": "arMwo15AYQhy"
      },
      "outputs": [],
      "source": [
        "df_hrefs = df.loc[:, [\"Movie Title\", \"link\"]]"
      ]
    },
    {
      "cell_type": "markdown",
      "metadata": {},
      "source": [
        "## Removing Duplicate Movies\n",
        "\n",
        "Let's look at our extracted movie information and then remove duplicates. This will give us a clean list of unique movies that we need to collect additional information for."
      ]
    },
    {
      "cell_type": "code",
      "execution_count": null,
      "metadata": {
        "colab": {
          "base_uri": "https://localhost:8080/",
          "height": 226
        },
        "id": "bmO7n-eDYqAQ",
        "outputId": "c11f0042-1e74-45e0-ba53-53ba7261139a"
      },
      "outputs": [
        {
          "data": {
            "application/vnd.google.colaboratory.intrinsic+json": {
              "summary": "{\n  \"name\": \"df_hrefs\",\n  \"rows\": 53976,\n  \"fields\": [\n    {\n      \"column\": \"Movie Title\",\n      \"properties\": {\n        \"dtype\": \"category\",\n        \"num_unique_values\": 1446,\n        \"samples\": [\n          \"Lamb\",\n          \"Gully\",\n          \"Firebird\"\n        ],\n        \"semantic_type\": \"\",\n        \"description\": \"\"\n      }\n    },\n    {\n      \"column\": \"link\",\n      \"properties\": {\n        \"dtype\": \"category\",\n        \"num_unique_values\": 1447,\n        \"samples\": [\n          \"/movie/Abyss-The#tab=box-office\",\n          \"/movie/rescate-de-huevitos-Un-(2021-Mexico)#tab=box-office\",\n          \"/movie/Spirited-Away-Live-on-Stage-(2023-Japan)#tab=box-office\"\n        ],\n        \"semantic_type\": \"\",\n        \"description\": \"\"\n      }\n    }\n  ]\n}",
              "type": "dataframe",
              "variable_name": "df_hrefs"
            },
            "text/html": [
              "\n",
              "  <div id=\"df-f8f1dc30-2350-4ec3-8b8b-cf24a654db73\" class=\"colab-df-container\">\n",
              "    <div>\n",
              "<style scoped>\n",
              "    .dataframe tbody tr th:only-of-type {\n",
              "        vertical-align: middle;\n",
              "    }\n",
              "\n",
              "    .dataframe tbody tr th {\n",
              "        vertical-align: top;\n",
              "    }\n",
              "\n",
              "    .dataframe thead th {\n",
              "        text-align: right;\n",
              "    }\n",
              "</style>\n",
              "<table border=\"1\" class=\"dataframe\">\n",
              "  <thead>\n",
              "    <tr style=\"text-align: right;\">\n",
              "      <th></th>\n",
              "      <th>Movie Title</th>\n",
              "      <th>link</th>\n",
              "    </tr>\n",
              "  </thead>\n",
              "  <tbody>\n",
              "    <tr>\n",
              "      <th>0</th>\n",
              "      <td>Star Wars The Rise of Skywalker</td>\n",
              "      <td>/movie/Star-Wars-The-Rise-of-Skywalker-(2019)#...</td>\n",
              "    </tr>\n",
              "    <tr>\n",
              "      <th>1</th>\n",
              "      <td>Jumanji: The Next Level</td>\n",
              "      <td>/movie/Jumanji-The-Next-Level#tab=box-office</td>\n",
              "    </tr>\n",
              "    <tr>\n",
              "      <th>2</th>\n",
              "      <td>Little Women</td>\n",
              "      <td>/movie/Little-Women-(2019)#tab=box-office</td>\n",
              "    </tr>\n",
              "    <tr>\n",
              "      <th>3</th>\n",
              "      <td>Frozen II</td>\n",
              "      <td>/movie/Frozen-II-(2019)#tab=box-office</td>\n",
              "    </tr>\n",
              "    <tr>\n",
              "      <th>4</th>\n",
              "      <td>Spies in Disguise</td>\n",
              "      <td>/movie/Spies-in-Disguise-(2019)#tab=box-office</td>\n",
              "    </tr>\n",
              "  </tbody>\n",
              "</table>\n",
              "</div>\n",
              "    <div class=\"colab-df-buttons\">\n",
              "\n",
              "  <div class=\"colab-df-container\">\n",
              "    <button class=\"colab-df-convert\" onclick=\"convertToInteractive('df-f8f1dc30-2350-4ec3-8b8b-cf24a654db73')\"\n",
              "            title=\"Convert this dataframe to an interactive table.\"\n",
              "            style=\"display:none;\">\n",
              "\n",
              "  <svg xmlns=\"http://www.w3.org/2000/svg\" height=\"24px\" viewBox=\"0 -960 960 960\">\n",
              "    <path d=\"M120-120v-720h720v720H120Zm60-500h600v-160H180v160Zm220 220h160v-160H400v160Zm0 220h160v-160H400v160ZM180-400h160v-160H180v160Zm440 0h160v-160H620v160ZM180-180h160v-160H180v160Zm440 0h160v-160H620v160Z\"/>\n",
              "  </svg>\n",
              "    </button>\n",
              "\n",
              "  <style>\n",
              "    .colab-df-container {\n",
              "      display:flex;\n",
              "      gap: 12px;\n",
              "    }\n",
              "\n",
              "    .colab-df-convert {\n",
              "      background-color: #E8F0FE;\n",
              "      border: none;\n",
              "      border-radius: 50%;\n",
              "      cursor: pointer;\n",
              "      display: none;\n",
              "      fill: #1967D2;\n",
              "      height: 32px;\n",
              "      padding: 0 0 0 0;\n",
              "      width: 32px;\n",
              "    }\n",
              "\n",
              "    .colab-df-convert:hover {\n",
              "      background-color: #E2EBFA;\n",
              "      box-shadow: 0px 1px 2px rgba(60, 64, 67, 0.3), 0px 1px 3px 1px rgba(60, 64, 67, 0.15);\n",
              "      fill: #174EA6;\n",
              "    }\n",
              "\n",
              "    .colab-df-buttons div {\n",
              "      margin-bottom: 4px;\n",
              "    }\n",
              "\n",
              "    [theme=dark] .colab-df-convert {\n",
              "      background-color: #3B4455;\n",
              "      fill: #D2E3FC;\n",
              "    }\n",
              "\n",
              "    [theme=dark] .colab-df-convert:hover {\n",
              "      background-color: #434B5C;\n",
              "      box-shadow: 0px 1px 3px 1px rgba(0, 0, 0, 0.15);\n",
              "      filter: drop-shadow(0px 1px 2px rgba(0, 0, 0, 0.3));\n",
              "      fill: #FFFFFF;\n",
              "    }\n",
              "  </style>\n",
              "\n",
              "    <script>\n",
              "      const buttonEl =\n",
              "        document.querySelector('#df-f8f1dc30-2350-4ec3-8b8b-cf24a654db73 button.colab-df-convert');\n",
              "      buttonEl.style.display =\n",
              "        google.colab.kernel.accessAllowed ? 'block' : 'none';\n",
              "\n",
              "      async function convertToInteractive(key) {\n",
              "        const element = document.querySelector('#df-f8f1dc30-2350-4ec3-8b8b-cf24a654db73');\n",
              "        const dataTable =\n",
              "          await google.colab.kernel.invokeFunction('convertToInteractive',\n",
              "                                                    [key], {});\n",
              "        if (!dataTable) return;\n",
              "\n",
              "        const docLinkHtml = 'Like what you see? Visit the ' +\n",
              "          '<a target=\"_blank\" href=https://colab.research.google.com/notebooks/data_table.ipynb>data table notebook</a>'\n",
              "          + ' to learn more about interactive tables.';\n",
              "        element.innerHTML = '';\n",
              "        dataTable['output_type'] = 'display_data';\n",
              "        await google.colab.output.renderOutput(dataTable, element);\n",
              "        const docLink = document.createElement('div');\n",
              "        docLink.innerHTML = docLinkHtml;\n",
              "        element.appendChild(docLink);\n",
              "      }\n",
              "    </script>\n",
              "  </div>\n",
              "\n",
              "\n",
              "<div id=\"df-d1c48e76-93f6-4ac4-b6ba-0b475d0a49a2\">\n",
              "  <button class=\"colab-df-quickchart\" onclick=\"quickchart('df-d1c48e76-93f6-4ac4-b6ba-0b475d0a49a2')\"\n",
              "            title=\"Suggest charts\"\n",
              "            style=\"display:none;\">\n",
              "\n",
              "<svg xmlns=\"http://www.w3.org/2000/svg\" height=\"24px\"viewBox=\"0 0 24 24\"\n",
              "     width=\"24px\">\n",
              "    <g>\n",
              "        <path d=\"M19 3H5c-1.1 0-2 .9-2 2v14c0 1.1.9 2 2 2h14c1.1 0 2-.9 2-2V5c0-1.1-.9-2-2-2zM9 17H7v-7h2v7zm4 0h-2V7h2v10zm4 0h-2v-4h2v4z\"/>\n",
              "    </g>\n",
              "</svg>\n",
              "  </button>\n",
              "\n",
              "<style>\n",
              "  .colab-df-quickchart {\n",
              "      --bg-color: #E8F0FE;\n",
              "      --fill-color: #1967D2;\n",
              "      --hover-bg-color: #E2EBFA;\n",
              "      --hover-fill-color: #174EA6;\n",
              "      --disabled-fill-color: #AAA;\n",
              "      --disabled-bg-color: #DDD;\n",
              "  }\n",
              "\n",
              "  [theme=dark] .colab-df-quickchart {\n",
              "      --bg-color: #3B4455;\n",
              "      --fill-color: #D2E3FC;\n",
              "      --hover-bg-color: #434B5C;\n",
              "      --hover-fill-color: #FFFFFF;\n",
              "      --disabled-bg-color: #3B4455;\n",
              "      --disabled-fill-color: #666;\n",
              "  }\n",
              "\n",
              "  .colab-df-quickchart {\n",
              "    background-color: var(--bg-color);\n",
              "    border: none;\n",
              "    border-radius: 50%;\n",
              "    cursor: pointer;\n",
              "    display: none;\n",
              "    fill: var(--fill-color);\n",
              "    height: 32px;\n",
              "    padding: 0;\n",
              "    width: 32px;\n",
              "  }\n",
              "\n",
              "  .colab-df-quickchart:hover {\n",
              "    background-color: var(--hover-bg-color);\n",
              "    box-shadow: 0 1px 2px rgba(60, 64, 67, 0.3), 0 1px 3px 1px rgba(60, 64, 67, 0.15);\n",
              "    fill: var(--button-hover-fill-color);\n",
              "  }\n",
              "\n",
              "  .colab-df-quickchart-complete:disabled,\n",
              "  .colab-df-quickchart-complete:disabled:hover {\n",
              "    background-color: var(--disabled-bg-color);\n",
              "    fill: var(--disabled-fill-color);\n",
              "    box-shadow: none;\n",
              "  }\n",
              "\n",
              "  .colab-df-spinner {\n",
              "    border: 2px solid var(--fill-color);\n",
              "    border-color: transparent;\n",
              "    border-bottom-color: var(--fill-color);\n",
              "    animation:\n",
              "      spin 1s steps(1) infinite;\n",
              "  }\n",
              "\n",
              "  @keyframes spin {\n",
              "    0% {\n",
              "      border-color: transparent;\n",
              "      border-bottom-color: var(--fill-color);\n",
              "      border-left-color: var(--fill-color);\n",
              "    }\n",
              "    20% {\n",
              "      border-color: transparent;\n",
              "      border-left-color: var(--fill-color);\n",
              "      border-top-color: var(--fill-color);\n",
              "    }\n",
              "    30% {\n",
              "      border-color: transparent;\n",
              "      border-left-color: var(--fill-color);\n",
              "      border-top-color: var(--fill-color);\n",
              "      border-right-color: var(--fill-color);\n",
              "    }\n",
              "    40% {\n",
              "      border-color: transparent;\n",
              "      border-right-color: var(--fill-color);\n",
              "      border-top-color: var(--fill-color);\n",
              "    }\n",
              "    60% {\n",
              "      border-color: transparent;\n",
              "      border-right-color: var(--fill-color);\n",
              "    }\n",
              "    80% {\n",
              "      border-color: transparent;\n",
              "      border-right-color: var(--fill-color);\n",
              "      border-bottom-color: var(--fill-color);\n",
              "    }\n",
              "    90% {\n",
              "      border-color: transparent;\n",
              "      border-bottom-color: var(--fill-color);\n",
              "    }\n",
              "  }\n",
              "</style>\n",
              "\n",
              "  <script>\n",
              "    async function quickchart(key) {\n",
              "      const quickchartButtonEl =\n",
              "        document.querySelector('#' + key + ' button');\n",
              "      quickchartButtonEl.disabled = true;  // To prevent multiple clicks.\n",
              "      quickchartButtonEl.classList.add('colab-df-spinner');\n",
              "      try {\n",
              "        const charts = await google.colab.kernel.invokeFunction(\n",
              "            'suggestCharts', [key], {});\n",
              "      } catch (error) {\n",
              "        console.error('Error during call to suggestCharts:', error);\n",
              "      }\n",
              "      quickchartButtonEl.classList.remove('colab-df-spinner');\n",
              "      quickchartButtonEl.classList.add('colab-df-quickchart-complete');\n",
              "    }\n",
              "    (() => {\n",
              "      let quickchartButtonEl =\n",
              "        document.querySelector('#df-d1c48e76-93f6-4ac4-b6ba-0b475d0a49a2 button');\n",
              "      quickchartButtonEl.style.display =\n",
              "        google.colab.kernel.accessAllowed ? 'block' : 'none';\n",
              "    })();\n",
              "  </script>\n",
              "</div>\n",
              "\n",
              "    </div>\n",
              "  </div>\n"
            ],
            "text/plain": [
              "                       Movie Title  \\\n",
              "0  Star Wars The Rise of Skywalker   \n",
              "1          Jumanji: The Next Level   \n",
              "2                     Little Women   \n",
              "3                        Frozen II   \n",
              "4                Spies in Disguise   \n",
              "\n",
              "                                                link  \n",
              "0  /movie/Star-Wars-The-Rise-of-Skywalker-(2019)#...  \n",
              "1       /movie/Jumanji-The-Next-Level#tab=box-office  \n",
              "2          /movie/Little-Women-(2019)#tab=box-office  \n",
              "3             /movie/Frozen-II-(2019)#tab=box-office  \n",
              "4     /movie/Spies-in-Disguise-(2019)#tab=box-office  "
            ]
          },
          "execution_count": 78,
          "metadata": {},
          "output_type": "execute_result"
        }
      ],
      "source": [
        "df_hrefs.head()"
      ]
    },
    {
      "cell_type": "code",
      "execution_count": null,
      "metadata": {
        "id": "RNb1CJIzYth4"
      },
      "outputs": [],
      "source": [
        "df_hrefs = df_hrefs.drop_duplicates(subset=[\"link\"])"
      ]
    },
    {
      "cell_type": "markdown",
      "metadata": {},
      "source": [
        "## Generating Full URLs for Movie Details\n",
        "\n",
        "For each movie, we need to visit two specific pages to collect all the information we want:\n",
        "1. The summary page - containing general movie information\n",
        "2. The cast and crew page - containing director information\n",
        "\n",
        "We'll create a function to generate these URLs based on the link fragments we extracted earlier."
      ]
    },
    {
      "cell_type": "code",
      "execution_count": null,
      "metadata": {
        "id": "9NODx71dY8QJ"
      },
      "outputs": [],
      "source": [
        "base_url = \"https://www.the-numbers.com\"\n",
        "\n",
        "\n",
        "# Define a function to generate the URLs from the href column\n",
        "def create_urls(href):\n",
        "    # Remove any anchor from the href string\n",
        "    anchor_removed = re.sub(r\"#.*$\", \"\", href)\n",
        "    # Create the full URLs based on the provided rule\n",
        "    full_summary_url = f\"{base_url}{anchor_removed}#tab=summary\"\n",
        "    full_cast_url = f\"{base_url}{anchor_removed}#tab=cast-and-crew\"\n",
        "    return pd.Series([full_summary_url, full_cast_url])\n",
        "\n",
        "\n",
        "df_hrefs[[\"full_summary_url\", \"full_cast_url\"]] = df_hrefs[\"link\"].apply(create_urls)\n"
      ]
    },
    {
      "cell_type": "markdown",
      "metadata": {},
      "source": [
        "## Extracting Director Information\n",
        "\n",
        "Next, we'll create a function to scrape the director's name from each movie's cast and crew page. This requires:\n",
        "\n",
        "1. Navigating to the cast and crew page\n",
        "2. Finding the production credits section\n",
        "3. Locating the row that contains the director information\n",
        "4. Extracting the director's name\n",
        "\n",
        "This information will help us later analyze box office performance by director."
      ]
    },
    {
      "cell_type": "code",
      "execution_count": null,
      "metadata": {
        "id": "mlJ872lzaJbL"
      },
      "outputs": [],
      "source": [
        "def get_director(full_cast_url):\n",
        "    cast_soup = extract_movies(full_cast_url)\n",
        "    director = None\n",
        "    prod_heading = cast_soup.find(\n",
        "        \"h1\", string=re.compile(r\"Production and Technical Credits\", re.IGNORECASE)\n",
        "    )\n",
        "    if prod_heading:\n",
        "        prod_table = prod_heading.find_next(\"table\")\n",
        "        if prod_table:\n",
        "            for prow in prod_table.find_all(\"tr\"):\n",
        "                cells = prow.find_all(\"td\")\n",
        "                # Check that there are at least 3 cells and the third cell's text is \"Director\"\n",
        "                if len(cells) >= 3 and cells[2].get_text(strip=True) == \"Director\":\n",
        "                    director = cells[0].get_text(strip=True)\n",
        "                    break\n",
        "    return director\n"
      ]
    },
    {
      "cell_type": "markdown",
      "metadata": {},
      "source": [
        "## Examining Our Movie Collection\n",
        "\n",
        "Before we begin collecting additional data for each movie, let's look at the statistics of our movie dataset to understand the scope of our task."
      ]
    },
    {
      "cell_type": "code",
      "execution_count": null,
      "metadata": {
        "colab": {
          "base_uri": "https://localhost:8080/",
          "height": 195
        },
        "id": "uWZyTYcFbIBc",
        "outputId": "58e97998-0d41-43e4-b0b8-f570d7684927"
      },
      "outputs": [
        {
          "data": {
            "application/vnd.google.colaboratory.intrinsic+json": {
              "summary": "{\n  \"name\": \"df_hrefs\",\n  \"rows\": 4,\n  \"fields\": [\n    {\n      \"column\": \"Movie Title\",\n      \"properties\": {\n        \"dtype\": \"string\",\n        \"num_unique_values\": 4,\n        \"samples\": [\n          1444,\n          \"2\",\n          \"1447\"\n        ],\n        \"semantic_type\": \"\",\n        \"description\": \"\"\n      }\n    },\n    {\n      \"column\": \"link\",\n      \"properties\": {\n        \"dtype\": \"string\",\n        \"num_unique_values\": 3,\n        \"samples\": [\n          \"1447\",\n          \"/movie/Star-Wars-The-Rise-of-Skywalker-(2019)#tab=box-office\",\n          \"1\"\n        ],\n        \"semantic_type\": \"\",\n        \"description\": \"\"\n      }\n    },\n    {\n      \"column\": \"full_summary_url\",\n      \"properties\": {\n        \"dtype\": \"string\",\n        \"num_unique_values\": 3,\n        \"samples\": [\n          \"1447\",\n          \"https://www.the-numbers.com/movie/Star-Wars-The-Rise-of-Skywalker-(2019)#tab=summary\",\n          \"1\"\n        ],\n        \"semantic_type\": \"\",\n        \"description\": \"\"\n      }\n    },\n    {\n      \"column\": \"full_cast_url\",\n      \"properties\": {\n        \"dtype\": \"string\",\n        \"num_unique_values\": 3,\n        \"samples\": [\n          \"1447\",\n          \"https://www.the-numbers.com/movie/Star-Wars-The-Rise-of-Skywalker-(2019)#tab=cast-and-crew\",\n          \"1\"\n        ],\n        \"semantic_type\": \"\",\n        \"description\": \"\"\n      }\n    }\n  ]\n}",
              "type": "dataframe"
            },
            "text/html": [
              "\n",
              "  <div id=\"df-efcc9852-9c70-4b23-93c7-2e8e7881f717\" class=\"colab-df-container\">\n",
              "    <div>\n",
              "<style scoped>\n",
              "    .dataframe tbody tr th:only-of-type {\n",
              "        vertical-align: middle;\n",
              "    }\n",
              "\n",
              "    .dataframe tbody tr th {\n",
              "        vertical-align: top;\n",
              "    }\n",
              "\n",
              "    .dataframe thead th {\n",
              "        text-align: right;\n",
              "    }\n",
              "</style>\n",
              "<table border=\"1\" class=\"dataframe\">\n",
              "  <thead>\n",
              "    <tr style=\"text-align: right;\">\n",
              "      <th></th>\n",
              "      <th>Movie Title</th>\n",
              "      <th>link</th>\n",
              "      <th>full_summary_url</th>\n",
              "      <th>full_cast_url</th>\n",
              "    </tr>\n",
              "  </thead>\n",
              "  <tbody>\n",
              "    <tr>\n",
              "      <th>count</th>\n",
              "      <td>1447</td>\n",
              "      <td>1447</td>\n",
              "      <td>1447</td>\n",
              "      <td>1447</td>\n",
              "    </tr>\n",
              "    <tr>\n",
              "      <th>unique</th>\n",
              "      <td>1444</td>\n",
              "      <td>1447</td>\n",
              "      <td>1447</td>\n",
              "      <td>1447</td>\n",
              "    </tr>\n",
              "    <tr>\n",
              "      <th>top</th>\n",
              "      <td>Last Call</td>\n",
              "      <td>/movie/Star-Wars-The-Rise-of-Skywalker-(2019)#...</td>\n",
              "      <td>https://www.the-numbers.com/movie/Star-Wars-Th...</td>\n",
              "      <td>https://www.the-numbers.com/movie/Star-Wars-Th...</td>\n",
              "    </tr>\n",
              "    <tr>\n",
              "      <th>freq</th>\n",
              "      <td>2</td>\n",
              "      <td>1</td>\n",
              "      <td>1</td>\n",
              "      <td>1</td>\n",
              "    </tr>\n",
              "  </tbody>\n",
              "</table>\n",
              "</div>\n",
              "    <div class=\"colab-df-buttons\">\n",
              "\n",
              "  <div class=\"colab-df-container\">\n",
              "    <button class=\"colab-df-convert\" onclick=\"convertToInteractive('df-efcc9852-9c70-4b23-93c7-2e8e7881f717')\"\n",
              "            title=\"Convert this dataframe to an interactive table.\"\n",
              "            style=\"display:none;\">\n",
              "\n",
              "  <svg xmlns=\"http://www.w3.org/2000/svg\" height=\"24px\" viewBox=\"0 -960 960 960\">\n",
              "    <path d=\"M120-120v-720h720v720H120Zm60-500h600v-160H180v160Zm220 220h160v-160H400v160Zm0 220h160v-160H400v160ZM180-400h160v-160H180v160Zm440 0h160v-160H620v160ZM180-180h160v-160H180v160Zm440 0h160v-160H620v160Z\"/>\n",
              "  </svg>\n",
              "    </button>\n",
              "\n",
              "  <style>\n",
              "    .colab-df-container {\n",
              "      display:flex;\n",
              "      gap: 12px;\n",
              "    }\n",
              "\n",
              "    .colab-df-convert {\n",
              "      background-color: #E8F0FE;\n",
              "      border: none;\n",
              "      border-radius: 50%;\n",
              "      cursor: pointer;\n",
              "      display: none;\n",
              "      fill: #1967D2;\n",
              "      height: 32px;\n",
              "      padding: 0 0 0 0;\n",
              "      width: 32px;\n",
              "    }\n",
              "\n",
              "    .colab-df-convert:hover {\n",
              "      background-color: #E2EBFA;\n",
              "      box-shadow: 0px 1px 2px rgba(60, 64, 67, 0.3), 0px 1px 3px 1px rgba(60, 64, 67, 0.15);\n",
              "      fill: #174EA6;\n",
              "    }\n",
              "\n",
              "    .colab-df-buttons div {\n",
              "      margin-bottom: 4px;\n",
              "    }\n",
              "\n",
              "    [theme=dark] .colab-df-convert {\n",
              "      background-color: #3B4455;\n",
              "      fill: #D2E3FC;\n",
              "    }\n",
              "\n",
              "    [theme=dark] .colab-df-convert:hover {\n",
              "      background-color: #434B5C;\n",
              "      box-shadow: 0px 1px 3px 1px rgba(0, 0, 0, 0.15);\n",
              "      filter: drop-shadow(0px 1px 2px rgba(0, 0, 0, 0.3));\n",
              "      fill: #FFFFFF;\n",
              "    }\n",
              "  </style>\n",
              "\n",
              "    <script>\n",
              "      const buttonEl =\n",
              "        document.querySelector('#df-efcc9852-9c70-4b23-93c7-2e8e7881f717 button.colab-df-convert');\n",
              "      buttonEl.style.display =\n",
              "        google.colab.kernel.accessAllowed ? 'block' : 'none';\n",
              "\n",
              "      async function convertToInteractive(key) {\n",
              "        const element = document.querySelector('#df-efcc9852-9c70-4b23-93c7-2e8e7881f717');\n",
              "        const dataTable =\n",
              "          await google.colab.kernel.invokeFunction('convertToInteractive',\n",
              "                                                    [key], {});\n",
              "        if (!dataTable) return;\n",
              "\n",
              "        const docLinkHtml = 'Like what you see? Visit the ' +\n",
              "          '<a target=\"_blank\" href=https://colab.research.google.com/notebooks/data_table.ipynb>data table notebook</a>'\n",
              "          + ' to learn more about interactive tables.';\n",
              "        element.innerHTML = '';\n",
              "        dataTable['output_type'] = 'display_data';\n",
              "        await google.colab.output.renderOutput(dataTable, element);\n",
              "        const docLink = document.createElement('div');\n",
              "        docLink.innerHTML = docLinkHtml;\n",
              "        element.appendChild(docLink);\n",
              "      }\n",
              "    </script>\n",
              "  </div>\n",
              "\n",
              "\n",
              "<div id=\"df-84b082d5-3170-4aff-9f13-293e4e643524\">\n",
              "  <button class=\"colab-df-quickchart\" onclick=\"quickchart('df-84b082d5-3170-4aff-9f13-293e4e643524')\"\n",
              "            title=\"Suggest charts\"\n",
              "            style=\"display:none;\">\n",
              "\n",
              "<svg xmlns=\"http://www.w3.org/2000/svg\" height=\"24px\"viewBox=\"0 0 24 24\"\n",
              "     width=\"24px\">\n",
              "    <g>\n",
              "        <path d=\"M19 3H5c-1.1 0-2 .9-2 2v14c0 1.1.9 2 2 2h14c1.1 0 2-.9 2-2V5c0-1.1-.9-2-2-2zM9 17H7v-7h2v7zm4 0h-2V7h2v10zm4 0h-2v-4h2v4z\"/>\n",
              "    </g>\n",
              "</svg>\n",
              "  </button>\n",
              "\n",
              "<style>\n",
              "  .colab-df-quickchart {\n",
              "      --bg-color: #E8F0FE;\n",
              "      --fill-color: #1967D2;\n",
              "      --hover-bg-color: #E2EBFA;\n",
              "      --hover-fill-color: #174EA6;\n",
              "      --disabled-fill-color: #AAA;\n",
              "      --disabled-bg-color: #DDD;\n",
              "  }\n",
              "\n",
              "  [theme=dark] .colab-df-quickchart {\n",
              "      --bg-color: #3B4455;\n",
              "      --fill-color: #D2E3FC;\n",
              "      --hover-bg-color: #434B5C;\n",
              "      --hover-fill-color: #FFFFFF;\n",
              "      --disabled-bg-color: #3B4455;\n",
              "      --disabled-fill-color: #666;\n",
              "  }\n",
              "\n",
              "  .colab-df-quickchart {\n",
              "    background-color: var(--bg-color);\n",
              "    border: none;\n",
              "    border-radius: 50%;\n",
              "    cursor: pointer;\n",
              "    display: none;\n",
              "    fill: var(--fill-color);\n",
              "    height: 32px;\n",
              "    padding: 0;\n",
              "    width: 32px;\n",
              "  }\n",
              "\n",
              "  .colab-df-quickchart:hover {\n",
              "    background-color: var(--hover-bg-color);\n",
              "    box-shadow: 0 1px 2px rgba(60, 64, 67, 0.3), 0 1px 3px 1px rgba(60, 64, 67, 0.15);\n",
              "    fill: var(--button-hover-fill-color);\n",
              "  }\n",
              "\n",
              "  .colab-df-quickchart-complete:disabled,\n",
              "  .colab-df-quickchart-complete:disabled:hover {\n",
              "    background-color: var(--disabled-bg-color);\n",
              "    fill: var(--disabled-fill-color);\n",
              "    box-shadow: none;\n",
              "  }\n",
              "\n",
              "  .colab-df-spinner {\n",
              "    border: 2px solid var(--fill-color);\n",
              "    border-color: transparent;\n",
              "    border-bottom-color: var(--fill-color);\n",
              "    animation:\n",
              "      spin 1s steps(1) infinite;\n",
              "  }\n",
              "\n",
              "  @keyframes spin {\n",
              "    0% {\n",
              "      border-color: transparent;\n",
              "      border-bottom-color: var(--fill-color);\n",
              "      border-left-color: var(--fill-color);\n",
              "    }\n",
              "    20% {\n",
              "      border-color: transparent;\n",
              "      border-left-color: var(--fill-color);\n",
              "      border-top-color: var(--fill-color);\n",
              "    }\n",
              "    30% {\n",
              "      border-color: transparent;\n",
              "      border-left-color: var(--fill-color);\n",
              "      border-top-color: var(--fill-color);\n",
              "      border-right-color: var(--fill-color);\n",
              "    }\n",
              "    40% {\n",
              "      border-color: transparent;\n",
              "      border-right-color: var(--fill-color);\n",
              "      border-top-color: var(--fill-color);\n",
              "    }\n",
              "    60% {\n",
              "      border-color: transparent;\n",
              "      border-right-color: var(--fill-color);\n",
              "    }\n",
              "    80% {\n",
              "      border-color: transparent;\n",
              "      border-right-color: var(--fill-color);\n",
              "      border-bottom-color: var(--fill-color);\n",
              "    }\n",
              "    90% {\n",
              "      border-color: transparent;\n",
              "      border-bottom-color: var(--fill-color);\n",
              "    }\n",
              "  }\n",
              "</style>\n",
              "\n",
              "  <script>\n",
              "    async function quickchart(key) {\n",
              "      const quickchartButtonEl =\n",
              "        document.querySelector('#' + key + ' button');\n",
              "      quickchartButtonEl.disabled = true;  // To prevent multiple clicks.\n",
              "      quickchartButtonEl.classList.add('colab-df-spinner');\n",
              "      try {\n",
              "        const charts = await google.colab.kernel.invokeFunction(\n",
              "            'suggestCharts', [key], {});\n",
              "      } catch (error) {\n",
              "        console.error('Error during call to suggestCharts:', error);\n",
              "      }\n",
              "      quickchartButtonEl.classList.remove('colab-df-spinner');\n",
              "      quickchartButtonEl.classList.add('colab-df-quickchart-complete');\n",
              "    }\n",
              "    (() => {\n",
              "      let quickchartButtonEl =\n",
              "        document.querySelector('#df-84b082d5-3170-4aff-9f13-293e4e643524 button');\n",
              "      quickchartButtonEl.style.display =\n",
              "        google.colab.kernel.accessAllowed ? 'block' : 'none';\n",
              "    })();\n",
              "  </script>\n",
              "</div>\n",
              "\n",
              "    </div>\n",
              "  </div>\n"
            ],
            "text/plain": [
              "       Movie Title                                               link  \\\n",
              "count         1447                                               1447   \n",
              "unique        1444                                               1447   \n",
              "top      Last Call  /movie/Star-Wars-The-Rise-of-Skywalker-(2019)#...   \n",
              "freq             2                                                  1   \n",
              "\n",
              "                                         full_summary_url  \\\n",
              "count                                                1447   \n",
              "unique                                               1447   \n",
              "top     https://www.the-numbers.com/movie/Star-Wars-Th...   \n",
              "freq                                                    1   \n",
              "\n",
              "                                            full_cast_url  \n",
              "count                                                1447  \n",
              "unique                                               1447  \n",
              "top     https://www.the-numbers.com/movie/Star-Wars-Th...  \n",
              "freq                                                    1  "
            ]
          },
          "execution_count": 82,
          "metadata": {},
          "output_type": "execute_result"
        }
      ],
      "source": [
        "df_hrefs.describe()"
      ]
    },
    {
      "cell_type": "markdown",
      "metadata": {},
      "source": [
        "## Collecting Director Information\n",
        "\n",
        "Now we'll apply our get_director function to each movie in our collection. This process may take some time as we need to make a separate web request for each movie.\n",
        "\n",
        "We use tqdm.pandas() to show a progress bar that will help us monitor the process."
      ]
    },
    {
      "cell_type": "code",
      "execution_count": null,
      "metadata": {
        "colab": {
          "base_uri": "https://localhost:8080/"
        },
        "id": "LJtvPwgZaRQa",
        "outputId": "e7e6fdbe-3cb5-47de-f570-699b79e66684"
      },
      "outputs": [
        {
          "name": "stderr",
          "output_type": "stream",
          "text": [
            "100%|██████████| 1447/1447 [22:48<00:00,  1.06it/s]\n"
          ]
        }
      ],
      "source": [
        "tqdm.pandas()\n",
        "df_hrefs[\"director\"] = df_hrefs[\"full_cast_url\"].progress_apply(get_director)"
      ]
    },
    {
      "cell_type": "markdown",
      "metadata": {},
      "source": [
        "## Checking the Results\n",
        "\n",
        "Let's examine the results of our director data collection to ensure the process completed successfully and see how many directors we were able to identify."
      ]
    },
    {
      "cell_type": "code",
      "execution_count": null,
      "metadata": {
        "colab": {
          "base_uri": "https://localhost:8080/"
        },
        "id": "-ROMcNorcbi5",
        "outputId": "4bb1d7a9-42b1-417c-d0b5-4ae00ec249a7"
      },
      "outputs": [
        {
          "name": "stdout",
          "output_type": "stream",
          "text": [
            "<class 'pandas.core.frame.DataFrame'>\n",
            "Index: 1447 entries, 0 to 53918\n",
            "Data columns (total 5 columns):\n",
            " #   Column            Non-Null Count  Dtype \n",
            "---  ------            --------------  ----- \n",
            " 0   Movie Title       1447 non-null   object\n",
            " 1   link              1447 non-null   object\n",
            " 2   full_summary_url  1447 non-null   object\n",
            " 3   full_cast_url     1447 non-null   object\n",
            " 4   director          1430 non-null   object\n",
            "dtypes: object(5)\n",
            "memory usage: 67.8+ KB\n"
          ]
        }
      ],
      "source": [
        "df_hrefs.info()"
      ]
    },
    {
      "cell_type": "markdown",
      "metadata": {},
      "source": [
        "## Creating a Function to Extract Movie Details\n",
        "\n",
        "Now we'll define a function to extract additional information from each movie's summary page, including:\n",
        "\n",
        "1. Running time\n",
        "2. Domestic release date\n",
        "3. International release date\n",
        "4. Genre\n",
        "\n",
        "This information will allow us to analyze box office performance by release timing, movie duration, and genre."
      ]
    },
    {
      "cell_type": "code",
      "execution_count": null,
      "metadata": {
        "id": "pvbEzPVAcqtT"
      },
      "outputs": [],
      "source": [
        "def get_summary_info(url):\n",
        "    summary_soup = extract_movies(url)\n",
        "\n",
        "    running_time = None\n",
        "    domestic_release = None\n",
        "    international_release = None\n",
        "    genre = None\n",
        "\n",
        "    # Running Time\n",
        "    rt_label = summary_soup.find(\"td\", string=re.compile(r\"Running Time:\"))\n",
        "    if rt_label:\n",
        "        rt_value_td = rt_label.find_next_sibling(\"td\")\n",
        "        if rt_value_td:\n",
        "            running_time = rt_value_td.get_text(strip=True)\n",
        "\n",
        "    # Domestic Releases\n",
        "    dom_label = summary_soup.find(\"td\", string=re.compile(r\"Domestic Releases:\"))\n",
        "    if dom_label:\n",
        "        dom_value_td = dom_label.find_next_sibling(\"td\")\n",
        "        if dom_value_td:\n",
        "            text_val = dom_value_td.get_text(\" \", strip=True)\n",
        "            # Extract a date like \"January 1st, 2025\"\n",
        "            match = re.search(\n",
        "                r\"([A-Za-z]+\\s+\\d{1,2}(?:st|nd|rd|th)?,\\s*\\d{4})\", text_val\n",
        "            )\n",
        "            if match:\n",
        "                domestic_release = match.group(1)\n",
        "\n",
        "    # International Releases\n",
        "    intl_label = summary_soup.find(\"td\", string=re.compile(r\"International Releases:\"))\n",
        "    if intl_label:\n",
        "        intl_value_td = intl_label.find_next_sibling(\"td\")\n",
        "        if intl_value_td:\n",
        "            text_val = intl_value_td.get_text(\" \", strip=True)\n",
        "            match = re.search(\n",
        "                r\"([A-Za-z]+\\s+\\d{1,2}(?:st|nd|rd|th)?,\\s*\\d{4})\", text_val\n",
        "            )\n",
        "            if match:\n",
        "                international_release = match.group(1)\n",
        "\n",
        "    # Genre\n",
        "    genre_label = summary_soup.find(\"td\", string=re.compile(r\"Genre:\"))\n",
        "    if genre_label:\n",
        "        genre_value_td = genre_label.find_next_sibling(\"td\")\n",
        "        if genre_value_td:\n",
        "            genre_a = genre_value_td.find(\"a\")\n",
        "            if genre_a:\n",
        "                genre = genre_a.get_text(strip=True)\n",
        "\n",
        "    # Return as a Series so we can assign directly to multiple columns\n",
        "    return pd.Series([running_time, domestic_release, international_release, genre])"
      ]
    },
    {
      "cell_type": "markdown",
      "metadata": {},
      "source": [
        "## Collecting Additional Movie Information\n",
        "\n",
        "Let's now apply our function to collect these additional details for each movie in our dataset. This will involve making another web request for each unique movie.\n",
        "\n",
        "As before, we use a progress bar to track the process which may take some time to complete."
      ]
    },
    {
      "cell_type": "code",
      "execution_count": null,
      "metadata": {
        "colab": {
          "base_uri": "https://localhost:8080/"
        },
        "id": "7jhSP6gtc0Ti",
        "outputId": "5628c96c-9495-43da-af44-3a75bc8a27c2"
      },
      "outputs": [
        {
          "name": "stderr",
          "output_type": "stream",
          "text": [
            "100%|██████████| 1447/1447 [21:17<00:00,  1.13it/s]\n"
          ]
        }
      ],
      "source": [
        "df_hrefs[[\"running_time\", \"domestic_release\", \"international_release\", \"genre\"]] = (\n",
        "    df_hrefs[\"full_cast_url\"].progress_apply(get_summary_info)\n",
        ")\n"
      ]
    },
    {
      "cell_type": "markdown",
      "metadata": {},
      "source": [
        "## Examining a Sample Movie Entry\n",
        "\n",
        "Let's look at a single movie entry to see all the information we've collected. This helps us verify that our data collection was successful and gives us a better understanding of the data structure."
      ]
    },
    {
      "cell_type": "code",
      "execution_count": null,
      "metadata": {
        "colab": {
          "base_uri": "https://localhost:8080/",
          "height": 386
        },
        "id": "yi72oKQMdjQ6",
        "outputId": "c6240a71-41dc-48a3-d34d-b5c8efd69d5e"
      },
      "outputs": [
        {
          "data": {
            "text/html": [
              "<div>\n",
              "<style scoped>\n",
              "    .dataframe tbody tr th:only-of-type {\n",
              "        vertical-align: middle;\n",
              "    }\n",
              "\n",
              "    .dataframe tbody tr th {\n",
              "        vertical-align: top;\n",
              "    }\n",
              "\n",
              "    .dataframe thead th {\n",
              "        text-align: right;\n",
              "    }\n",
              "</style>\n",
              "<table border=\"1\" class=\"dataframe\">\n",
              "  <thead>\n",
              "    <tr style=\"text-align: right;\">\n",
              "      <th></th>\n",
              "      <th>4</th>\n",
              "    </tr>\n",
              "  </thead>\n",
              "  <tbody>\n",
              "    <tr>\n",
              "      <th>Movie Title</th>\n",
              "      <td>Spies in Disguise</td>\n",
              "    </tr>\n",
              "    <tr>\n",
              "      <th>link</th>\n",
              "      <td>/movie/Spies-in-Disguise-(2019)#tab=box-office</td>\n",
              "    </tr>\n",
              "    <tr>\n",
              "      <th>full_summary_url</th>\n",
              "      <td>https://www.the-numbers.com/movie/Spies-in-Dis...</td>\n",
              "    </tr>\n",
              "    <tr>\n",
              "      <th>full_cast_url</th>\n",
              "      <td>https://www.the-numbers.com/movie/Spies-in-Dis...</td>\n",
              "    </tr>\n",
              "    <tr>\n",
              "      <th>director</th>\n",
              "      <td>Nick Bruno</td>\n",
              "    </tr>\n",
              "    <tr>\n",
              "      <th>running_time</th>\n",
              "      <td>104 minutes</td>\n",
              "    </tr>\n",
              "    <tr>\n",
              "      <th>domestic_release</th>\n",
              "      <td>December 25th, 2019</td>\n",
              "    </tr>\n",
              "    <tr>\n",
              "      <th>international_release</th>\n",
              "      <td>December 25th, 2019</td>\n",
              "    </tr>\n",
              "    <tr>\n",
              "      <th>genre</th>\n",
              "      <td>Adventure</td>\n",
              "    </tr>\n",
              "  </tbody>\n",
              "</table>\n",
              "</div><br><label><b>dtype:</b> object</label>"
            ],
            "text/plain": [
              "Movie Title                                              Spies in Disguise\n",
              "link                        /movie/Spies-in-Disguise-(2019)#tab=box-office\n",
              "full_summary_url         https://www.the-numbers.com/movie/Spies-in-Dis...\n",
              "full_cast_url            https://www.the-numbers.com/movie/Spies-in-Dis...\n",
              "director                                                        Nick Bruno\n",
              "running_time                                                   104 minutes\n",
              "domestic_release                                       December 25th, 2019\n",
              "international_release                                  December 25th, 2019\n",
              "genre                                                            Adventure\n",
              "Name: 4, dtype: object"
            ]
          },
          "execution_count": 88,
          "metadata": {},
          "output_type": "execute_result"
        }
      ],
      "source": [
        "df_hrefs.iloc[4, :]\n"
      ]
    },
    {
      "cell_type": "markdown",
      "metadata": {},
      "source": [
        "## Merging Daily Box Office Data with Movie Details\n",
        "\n",
        "Now we'll combine our daily box office data with the detailed movie information we've collected. This merge operation will use the movie links as the common key between the two datasets.\n",
        "\n",
        "The result will be a comprehensive dataset that includes both daily performance metrics and static movie characteristics."
      ]
    },
    {
      "cell_type": "code",
      "execution_count": null,
      "metadata": {
        "colab": {
          "base_uri": "https://localhost:8080/"
        },
        "id": "-VGULzCTdQ9q",
        "outputId": "85c863a6-4d89-4316-8c49-d57afc813846"
      },
      "outputs": [
        {
          "name": "stdout",
          "output_type": "stream",
          "text": [
            "                     Movie Title_x       Distributor        Gross   %YD   %LW  \\\n",
            "0  Star Wars The Rise of Skywalker       Walt Disney  $17,076,472  +29%  -47%   \n",
            "1          Jumanji: The Next Level     Sony Pictures  $10,909,345  +32%  -13%   \n",
            "2                     Little Women     Sony Pictures   $5,242,720  +28%  -18%   \n",
            "3                        Frozen II       Walt Disney   $5,029,104  +24%  +21%   \n",
            "4                Spies in Disguise  20th Century Fox   $4,397,815  +20%   -8%   \n",
            "\n",
            "  Theaters Per Theater   Total Gross Days In Release        Date  \\\n",
            "0    4,406      $3,876  $407,782,706              13  2020/01/01   \n",
            "1    4,227      $2,581  $203,003,881              20  2020/01/01   \n",
            "2    3,308      $1,585   $42,835,847               8  2020/01/01   \n",
            "3    3,265      $1,540  $435,173,786              41  2020/01/01   \n",
            "4    3,502      $1,256   $33,721,503               8  2020/01/01   \n",
            "\n",
            "                                                link  \\\n",
            "0  /movie/Star-Wars-The-Rise-of-Skywalker-(2019)#...   \n",
            "1       /movie/Jumanji-The-Next-Level#tab=box-office   \n",
            "2          /movie/Little-Women-(2019)#tab=box-office   \n",
            "3             /movie/Frozen-II-(2019)#tab=box-office   \n",
            "4     /movie/Spies-in-Disguise-(2019)#tab=box-office   \n",
            "\n",
            "                     Movie Title_y  \\\n",
            "0  Star Wars The Rise of Skywalker   \n",
            "1          Jumanji: The Next Level   \n",
            "2                     Little Women   \n",
            "3                        Frozen II   \n",
            "4                Spies in Disguise   \n",
            "\n",
            "                                    full_summary_url  \\\n",
            "0  https://www.the-numbers.com/movie/Star-Wars-Th...   \n",
            "1  https://www.the-numbers.com/movie/Jumanji-The-...   \n",
            "2  https://www.the-numbers.com/movie/Little-Women...   \n",
            "3  https://www.the-numbers.com/movie/Frozen-II-(2...   \n",
            "4  https://www.the-numbers.com/movie/Spies-in-Dis...   \n",
            "\n",
            "                                       full_cast_url      director  \\\n",
            "0  https://www.the-numbers.com/movie/Star-Wars-Th...   J.J. Abrams   \n",
            "1  https://www.the-numbers.com/movie/Jumanji-The-...   Jake Kasdan   \n",
            "2  https://www.the-numbers.com/movie/Little-Women...  Greta Gerwig   \n",
            "3  https://www.the-numbers.com/movie/Frozen-II-(2...  Jennifer Lee   \n",
            "4  https://www.the-numbers.com/movie/Spies-in-Dis...    Nick Bruno   \n",
            "\n",
            "  running_time     domestic_release international_release      genre  \n",
            "0  142 minutes  December 20th, 2019   December 18th, 2019  Adventure  \n",
            "1  123 minutes  December 13th, 2019    December 4th, 2019  Adventure  \n",
            "2  135 minutes  December 25th, 2019   December 25th, 2019      Drama  \n",
            "3  103 minutes  November 22nd, 2019   November 20th, 2019    Musical  \n",
            "4  104 minutes  December 25th, 2019   December 25th, 2019  Adventure  \n"
          ]
        }
      ],
      "source": [
        "# Merge the two DataFrames on the 'link' column using a left join\n",
        "merged_df = pd.merge(df, df_hrefs, on=\"link\", how=\"left\")\n",
        "\n",
        "print(merged_df.head())"
      ]
    },
    {
      "cell_type": "markdown",
      "metadata": {},
      "source": [
        "## Saving the Complete Dataset\n",
        "\n",
        "Let's save our merged dataset to a CSV file. This preserves all our collected data in its most complete form."
      ]
    },
    {
      "cell_type": "code",
      "execution_count": null,
      "metadata": {
        "id": "SOEBJJkJqj2o"
      },
      "outputs": [],
      "source": [
        "merged_df.to_csv(\"final_data.csv\", index=False)\n"
      ]
    },
    {
      "cell_type": "markdown",
      "metadata": {},
      "source": [
        "## Cleaning the Final Dataset\n",
        "\n",
        "Now that we've successfully merged our data, we can remove the URL columns that were necessary for scraping but aren't needed for analysis. This will make our final dataset cleaner and more focused on the analytical variables."
      ]
    },
    {
      "cell_type": "code",
      "execution_count": null,
      "metadata": {
        "colab": {
          "base_uri": "https://localhost:8080/"
        },
        "id": "PU1Cxp82zPr-",
        "outputId": "68b95fe2-5e53-4fc1-a77a-eb591907fb7d"
      },
      "outputs": [
        {
          "name": "stdout",
          "output_type": "stream",
          "text": [
            "                     Movie Title_x       Distributor        Gross   %YD   %LW  \\\n",
            "0  Star Wars The Rise of Skywalker       Walt Disney  $17,076,472  +29%  -47%   \n",
            "1          Jumanji: The Next Level     Sony Pictures  $10,909,345  +32%  -13%   \n",
            "2                     Little Women     Sony Pictures   $5,242,720  +28%  -18%   \n",
            "3                        Frozen II       Walt Disney   $5,029,104  +24%  +21%   \n",
            "4                Spies in Disguise  20th Century Fox   $4,397,815  +20%   -8%   \n",
            "\n",
            "  Theaters Per Theater   Total Gross Days In Release        Date  \\\n",
            "0    4,406      $3,876  $407,782,706              13  2020/01/01   \n",
            "1    4,227      $2,581  $203,003,881              20  2020/01/01   \n",
            "2    3,308      $1,585   $42,835,847               8  2020/01/01   \n",
            "3    3,265      $1,540  $435,173,786              41  2020/01/01   \n",
            "4    3,502      $1,256   $33,721,503               8  2020/01/01   \n",
            "\n",
            "                     Movie Title_y      director running_time  \\\n",
            "0  Star Wars The Rise of Skywalker   J.J. Abrams  142 minutes   \n",
            "1          Jumanji: The Next Level   Jake Kasdan  123 minutes   \n",
            "2                     Little Women  Greta Gerwig  135 minutes   \n",
            "3                        Frozen II  Jennifer Lee  103 minutes   \n",
            "4                Spies in Disguise    Nick Bruno  104 minutes   \n",
            "\n",
            "      domestic_release international_release      genre  \n",
            "0  December 20th, 2019   December 18th, 2019  Adventure  \n",
            "1  December 13th, 2019    December 4th, 2019  Adventure  \n",
            "2  December 25th, 2019   December 25th, 2019      Drama  \n",
            "3  November 22nd, 2019   November 20th, 2019    Musical  \n",
            "4  December 25th, 2019   December 25th, 2019  Adventure  \n"
          ]
        }
      ],
      "source": [
        "# Drop the three columns that contain URL information\n",
        "merged_df = merged_df.drop(columns=[\"link\", \"full_summary_url\", \"full_cast_url\"])\n",
        "\n",
        "print(merged_df.head())\n"
      ]
    },
    {
      "cell_type": "markdown",
      "metadata": {},
      "source": [
        "## Saving the Clean Final Dataset\n",
        "\n",
        "Finally, we'll save our clean, analysis-ready dataset to a CSV file. This dataset represents the culmination of our web scraping efforts and contains comprehensive box office data for movies from 2020 to early 2025.\n",
        "\n",
        "This dataset is now ready for various analyses, such as:\n",
        "- Trends in box office performance over time\n",
        "- Comparisons between different genres\n",
        "- Effects of the pandemic on theater attendance\n",
        "- Patterns in movie release timing\n",
        "- Performance differences across distributors"
      ]
    },
    {
      "cell_type": "code",
      "execution_count": null,
      "metadata": {
        "id": "lcx5a13VrRFc"
      },
      "outputs": [],
      "source": [
        "merged_df.to_csv(\"theNumbersDataset.csv\", index=False)\n"
      ]
    },
    {
      "cell_type": "markdown",
      "metadata": {},
      "source": [
        "# Conclusion\n",
        "\n",
        "In this notebook, we've successfully:\n",
        "\n",
        "1. Built robust web scraping tools specifically designed for The-Numbers.com\n",
        "2. Collected daily box office data spanning from 2020 to early 2025\n",
        "3. Extracted detailed information about each unique movie\n",
        "4. Combined everything into a comprehensive dataset for analysis\n",
        "\n"
      ]
    },
    {
      "cell_type": "markdown",
      "metadata": {},
      "source": []
    }
  ],
  "metadata": {
    "colab": {
      "provenance": []
    },
    "kernelspec": {
      "display_name": "Python 3",
      "language": "python",
      "name": "python3"
    },
    "language_info": {
      "codemirror_mode": {
        "name": "ipython",
        "version": 3
      },
      "file_extension": ".py",
      "mimetype": "text/x-python",
      "name": "python",
      "nbconvert_exporter": "python",
      "pygments_lexer": "ipython3",
      "version": "3.12.3"
    }
  },
  "nbformat": 4,
  "nbformat_minor": 0
}
